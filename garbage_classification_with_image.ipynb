{
  "nbformat": 4,
  "nbformat_minor": 0,
  "metadata": {
    "colab": {
      "provenance": []
    },
    "kernelspec": {
      "name": "python3",
      "display_name": "Python 3"
    },
    "language_info": {
      "name": "python"
    }
  },
  "cells": [
    {
      "cell_type": "code",
      "execution_count": null,
      "metadata": {
        "id": "2t4BL6hvmIR1"
      },
      "outputs": [],
      "source": [
        "from tensorflow.keras.models import load_model\n",
        "import cv2\n",
        "from google.colab import files\n",
        "import numpy as np\n",
        "import matplotlib.pyplot as plt\n",
        "\n",
        "# Nạp mô hình từ tệp waste.h5\n",
        "model = load_model('waste.h5')\n",
        "\n",
        "# Hàm để phân loại ảnh\n",
        "def classify_waste(image_path):\n",
        "    img = cv2.imread(image_path)\n",
        "    img = cv2.cvtColor(img, cv2.COLOR_BGR2RGB)  # Chuyển đổi sang định dạng mà mô hình đòi hỏi\n",
        "    img = cv2.resize(img, (224, 224))  # Đảm bảo kích thước phù hợp với mô hình\n",
        "    img = img / 255.0  # Chuẩn hóa giá trị pixel\n",
        "    img = np.expand_dims(img, axis=0)  # Thêm một chiều cho phù hợp với mô hình\n",
        "\n",
        "    # Dự đoán\n",
        "    prediction = model.predict(img)\n",
        "\n",
        "    # Giải mã kết quả\n",
        "    class_labels = ['Organic', 'Recyclable']  # Tên các lớp\n",
        "    predicted_class = class_labels[np.argmax(prediction)]\n",
        "\n",
        "    # Hiển thị ảnh và kết quả\n",
        "    plt.imshow(img.squeeze())\n",
        "    plt.axis('off')\n",
        "    plt.title(f'Predicted class: {predicted_class}')\n",
        "    plt.show()\n",
        "\n",
        "# Đường dẫn đến ảnh bạn muốn phân loại\n",
        "image_path = '/content/O_13966.jpg'  # Thay đổi thành đường dẫn tới ảnh bạn muốn phân loại\n",
        "classify_waste(image_path)\n"
      ]
    }
  ]
}